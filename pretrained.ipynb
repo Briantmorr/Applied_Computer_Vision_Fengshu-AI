{
 "cells": [
  {
   "cell_type": "code",
   "execution_count": 1,
   "metadata": {},
   "outputs": [],
   "source": [
    "import torch\n",
    "import cv2\n",
    "import matplotlib.pyplot as plt\n",
    "import numpy as np\n",
    "import cv2\n",
    "import yaml\n",
    "import os\n",
    "from PIL import Image"
   ]
  },
  {
   "cell_type": "code",
   "execution_count": 2,
   "metadata": {},
   "outputs": [
    {
     "name": "stderr",
     "output_type": "stream",
     "text": [
      "Using cache found in /Users/I523193/.cache/torch/hub/ultralytics_yolov5_master\n"
     ]
    },
    {
     "name": "stdout",
     "output_type": "stream",
     "text": [
      "\u001b[31m\u001b[1mrequirements:\u001b[0m Ultralytics requirements ['gitpython>=3.1.30', 'tqdm>=4.66.3'] not found, attempting AutoUpdate...\n",
      "Retry 1/2 failed: Command 'pip install --no-cache-dir \"gitpython>=3.1.30\" \"tqdm>=4.66.3\" ' returned non-zero exit status 127.\n"
     ]
    },
    {
     "name": "stderr",
     "output_type": "stream",
     "text": [
      "/bin/sh: pip: command not found\n"
     ]
    },
    {
     "name": "stdout",
     "output_type": "stream",
     "text": [
      "Retry 2/2 failed: Command 'pip install --no-cache-dir \"gitpython>=3.1.30\" \"tqdm>=4.66.3\" ' returned non-zero exit status 127.\n",
      "\u001b[31m\u001b[1mrequirements:\u001b[0m ❌ Command 'pip install --no-cache-dir \"gitpython>=3.1.30\" \"tqdm>=4.66.3\" ' returned non-zero exit status 127.\n"
     ]
    },
    {
     "name": "stderr",
     "output_type": "stream",
     "text": [
      "/bin/sh: pip: command not found\n",
      "YOLOv5 🚀 2024-11-20 Python-3.11.9 torch-2.5.1 CPU\n",
      "\n",
      "Fusing layers... \n",
      "YOLOv5s summary: 213 layers, 7225885 parameters, 0 gradients, 16.4 GFLOPs\n",
      "Adding AutoShape... \n"
     ]
    }
   ],
   "source": [
    "model = torch.hub.load('ultralytics/yolov5', 'yolov5s', pretrained=True)"
   ]
  },
  {
   "cell_type": "code",
   "execution_count": 23,
   "metadata": {},
   "outputs": [],
   "source": [
    "os.environ['ROBOFLOW_API_KEY'] = 'rf_tsEK5T88t6aywhmWzxObE4u1q413'\n",
    "# os.environ['ROBOFLOW_API_KEY'] = 'Pa4SQAwFyRxol9YM3JbI'"
   ]
  },
  {
   "cell_type": "code",
   "execution_count": null,
   "metadata": {},
   "outputs": [],
   "source": [
    "# model = get_model(model_id=\"furniture-detection-qiufc/20\")\n",
    "# model = get_model(model_id=\"yolov8-tiny-coco-furniture-detection-qiufc/20\")\n"
   ]
  },
  {
   "cell_type": "code",
   "execution_count": 3,
   "metadata": {},
   "outputs": [
    {
     "name": "stdout",
     "output_type": "stream",
     "text": [
      "Train Path: data/train/images\n",
      "Validation Path: data/valid/images\n",
      "Test Path: data/test/images\n",
      "Number of Classes: 25\n",
      "Class Names: ['Bed', 'Cabinet', 'Carpet', 'Ceramic floor', 'Chair', 'Closet', 'Cupboard', 'Curtains', 'Dining Table', 'Door', 'Frame', 'Futec frame', 'Futech tiles', 'Gypsum Board', 'Lamp', 'Nightstand', 'Shelf', 'Sideboard', 'Sofa', 'TV stand', 'Table', 'Transparent Closet', 'Wall Panel', 'Window', 'Wooden floor']\n"
     ]
    }
   ],
   "source": [
    "with open('data/data.yaml', 'r') as file:\n",
    "    config = yaml.safe_load(file)\n",
    "train_path = config['train']\n",
    "val_path = config['val']\n",
    "test_path = config['test']\n",
    "num_classes = config['nc']\n",
    "class_names = config['names']\n",
    "print(\"Train Path:\", train_path)\n",
    "print(\"Validation Path:\", val_path)\n",
    "print(\"Test Path:\", test_path)\n",
    "print(\"Number of Classes:\", num_classes)\n",
    "print(\"Class Names:\", class_names)"
   ]
  },
  {
   "cell_type": "code",
   "execution_count": 18,
   "metadata": {},
   "outputs": [
    {
     "name": "stdout",
     "output_type": "stream",
     "text": [
      "data/test/images/200144_jpg.rf.ffb7ccd5866f65e53fb838a29caeee4c.jpg\n"
     ]
    }
   ],
   "source": [
    "sample_image_path = os.path.join(test_path, os.listdir(test_path)[2])\n",
    "print(sample_image_path)"
   ]
  },
  {
   "cell_type": "code",
   "execution_count": 19,
   "metadata": {},
   "outputs": [],
   "source": [
    "image = cv2.imread(sample_image_path)\n",
    "img_rgb = cv2.cvtColor(image, cv2.COLOR_BGR2RGB)\n"
   ]
  },
  {
   "cell_type": "code",
   "execution_count": 20,
   "metadata": {},
   "outputs": [
    {
     "name": "stderr",
     "output_type": "stream",
     "text": [
      "/Users/I523193/.cache/torch/hub/ultralytics_yolov5_master/models/common.py:892: FutureWarning: `torch.cuda.amp.autocast(args...)` is deprecated. Please use `torch.amp.autocast('cuda', args...)` instead.\n",
      "  with amp.autocast(autocast):\n"
     ]
    }
   ],
   "source": [
    "results = model(img_rgb)"
   ]
  },
  {
   "cell_type": "code",
   "execution_count": 21,
   "metadata": {},
   "outputs": [],
   "source": [
    "plt.figure(figsize=(12, 8))\n",
    "plt.imshow(img_rgb)\n",
    "plt.axis('off')\n",
    "plt.show()"
   ]
  },
  {
   "cell_type": "code",
   "execution_count": 23,
   "metadata": {},
   "outputs": [
    {
     "name": "stdout",
     "output_type": "stream",
     "text": [
      "tensor([], size=(0, 6))\n"
     ]
    }
   ],
   "source": [
    "print(results.xyxy[0])"
   ]
  },
  {
   "cell_type": "code",
   "execution_count": 22,
   "metadata": {},
   "outputs": [],
   "source": [
    "for idx, (xmin, ymin, xmax, ymax, confidence, cls) in enumerate(results.xyxy[0]):\n",
    "    label = results.names[int(cls)]\n",
    "    print(f\"Bounding box {idx + 1}:\")\n",
    "    print(f\"  Label: {label}\")\n",
    "    print(f\"  Confidence: {confidence:.2f}\")\n",
    "    print(f\"  Coordinates: ({xmin:.2f}, {ymin:.2f}), ({xmax:.2f}, {ymax:.2f})\")"
   ]
  },
  {
   "cell_type": "code",
   "execution_count": null,
   "metadata": {},
   "outputs": [],
   "source": []
  }
 ],
 "metadata": {
  "kernelspec": {
   "display_name": "Python 3 (ipykernel)",
   "language": "python",
   "name": "python3"
  }
 },
 "nbformat": 4,
 "nbformat_minor": 2
}
